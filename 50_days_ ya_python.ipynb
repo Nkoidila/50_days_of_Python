{
 "cells": [
  {
   "cell_type": "markdown",
   "metadata": {},
   "source": [
    "DAY1: EXERCISEWrite a function called divide_or_square that takes one\n",
    "argument (a number), and returns the square root of the number\n",
    "if it is divisible by 5, returns its remainder if it is not divisible by\n",
    "5. For example, if you pass 10 as an argument, then your function\n",
    "should return 3.16 as the square root."
   ]
  },
  {
   "cell_type": "code",
   "execution_count": 2,
   "metadata": {},
   "outputs": [],
   "source": [
    "def divide_or_square(number):\n",
    "    if (number%5==0):\n",
    "        return (f\"{number} is divisible by 5 and the square root is {number**0.5}\")\n",
    "    else:\n",
    "        return (f\"{number} is NOT divisible by 5 and on division gives a remainder of {number%5}\")\n",
    "    "
   ]
  },
  {
   "cell_type": "code",
   "execution_count": 5,
   "metadata": {},
   "outputs": [
    {
     "data": {
      "text/plain": [
       "'8 is NOT divisible by 5 and on division gives a remainder of 3'"
      ]
     },
     "execution_count": 5,
     "metadata": {},
     "output_type": "execute_result"
    }
   ],
   "source": [
    "divide_or_square(10)\n",
    "divide_or_square(8)"
   ]
  },
  {
   "cell_type": "markdown",
   "metadata": {},
   "source": [
    "EXERCISE 2: Write a function called longest_value that takes a dictionary\n",
    "as an argument and returns the first longest value of the\n",
    "dictionary. For example, the following dictionary should return\n",
    "– apple as the longest value.\n",
    "fruits = {'fruit': 'apple', 'color': 'green'}"
   ]
  },
  {
   "cell_type": "code",
   "execution_count": 21,
   "metadata": {},
   "outputs": [],
   "source": [
    "def longest_value(dictionary):\n",
    "    max_value=max(dictionary.values(), key=len)\n",
    "    return max_value\n"
   ]
  },
  {
   "cell_type": "code",
   "execution_count": 24,
   "metadata": {},
   "outputs": [
    {
     "data": {
      "text/plain": [
       "'apple'"
      ]
     },
     "execution_count": 24,
     "metadata": {},
     "output_type": "execute_result"
    }
   ],
   "source": [
    "fruits={'fruit': 'apple', 'color': 'green'}\n",
    "longest_value(fruits)"
   ]
  }
 ],
 "metadata": {
  "kernelspec": {
   "display_name": "base",
   "language": "python",
   "name": "python3"
  },
  "language_info": {
   "codemirror_mode": {
    "name": "ipython",
    "version": 3
   },
   "file_extension": ".py",
   "mimetype": "text/x-python",
   "name": "python",
   "nbconvert_exporter": "python",
   "pygments_lexer": "ipython3",
   "version": "3.9.13"
  }
 },
 "nbformat": 4,
 "nbformat_minor": 2
}
