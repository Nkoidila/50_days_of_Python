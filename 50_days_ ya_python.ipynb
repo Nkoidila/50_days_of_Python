{
 "cells": [
  {
   "cell_type": "markdown",
   "metadata": {},
   "source": [
    "DAY1: EXERCISEWrite a function called divide_or_square that takes one\n",
    "argument (a number), and returns the square root of the number\n",
    "if it is divisible by 5, returns its remainder if it is not divisible by\n",
    "5. For example, if you pass 10 as an argument, then your function\n",
    "should return 3.16 as the square root."
   ]
  },
  {
   "cell_type": "code",
   "execution_count": 2,
   "metadata": {},
   "outputs": [],
   "source": [
    "def divide_or_square(number):\n",
    "    if (number%5==0):\n",
    "        return (f\"{number} is divisible by 5 and the square root is {number**0.5}\")\n",
    "    else:\n",
    "        return (f\"{number} is NOT divisible by 5 and on division gives a remainder of {number%5}\")\n",
    "    "
   ]
  },
  {
   "cell_type": "code",
   "execution_count": 5,
   "metadata": {},
   "outputs": [
    {
     "data": {
      "text/plain": [
       "'8 is NOT divisible by 5 and on division gives a remainder of 3'"
      ]
     },
     "execution_count": 5,
     "metadata": {},
     "output_type": "execute_result"
    }
   ],
   "source": [
    "divide_or_square(10)\n",
    "divide_or_square(8)"
   ]
  },
  {
   "cell_type": "markdown",
   "metadata": {},
   "source": [
    "EXERCISE 2: Write a function called longest_value that takes a dictionary\n",
    "as an argument and returns the first longest value of the\n",
    "dictionary. For example, the following dictionary should return\n",
    "– apple as the longest value.\n",
    "fruits = {'fruit': 'apple', 'color': 'green'}"
   ]
  },
  {
   "cell_type": "code",
   "execution_count": 21,
   "metadata": {},
   "outputs": [],
   "source": [
    "def longest_value(dictionary):\n",
    "    max_value=max(dictionary.values(), key=len)\n",
    "    return max_value\n"
   ]
  },
  {
   "cell_type": "code",
   "execution_count": 24,
   "metadata": {},
   "outputs": [
    {
     "data": {
      "text/plain": [
       "'apple'"
      ]
     },
     "execution_count": 24,
     "metadata": {},
     "output_type": "execute_result"
    }
   ],
   "source": [
    "fruits={'fruit': 'apple', 'color': 'green'}\n",
    "longest_value(fruits)"
   ]
  },
  {
   "cell_type": "markdown",
   "metadata": {},
   "source": [
    "DAY2: EXERCISE1: Write a function called convert_add that takes a list of strings\n",
    "as an argument and converts it to integers and sums the list. For\n",
    "example [‘1’, ‘3’, ‘5’] should be converted to [1, 3, 5] and\n",
    "summed to 9."
   ]
  },
  {
   "cell_type": "code",
   "execution_count": 1,
   "metadata": {},
   "outputs": [],
   "source": [
    "def convert_add(string):\n",
    "    integers=[int(x)for x in string]\n",
    "    sum_of_integers=[sum(integers)]\n",
    "    return (f\"The sum of the integers in the string is {sum_of_integers}\")"
   ]
  },
  {
   "cell_type": "code",
   "execution_count": 3,
   "metadata": {},
   "outputs": [
    {
     "data": {
      "text/plain": [
       "'The sum of the integers in the string is [9]'"
      ]
     },
     "execution_count": 3,
     "metadata": {},
     "output_type": "execute_result"
    }
   ],
   "source": [
    "strings=['1', '3', '5']\n",
    "convert_add(strings)"
   ]
  },
  {
   "cell_type": "markdown",
   "metadata": {},
   "source": [
    "EXERCISE2:Write a function called check_duplicates that takes a list of\n",
    "strings as an argument. The function should check if the list has\n",
    "any duplicates. If there are duplicates, the function should return\n",
    "the duplicates. If there are no duplicates, the function should\n",
    "return \"No duplicates\". For example, the list of fruits below\n",
    "should return apple as a duplicate and list of names should\n",
    "return \"no duplicates\".\n",
    "fruits = ['apple', 'orange', 'banana', 'apple']\n",
    "names = ['Yoda', 'Moses', 'Joshua', 'Mark']"
   ]
  },
  {
   "cell_type": "code",
   "execution_count": 8,
   "metadata": {},
   "outputs": [],
   "source": [
    "def check_duplicates(string_list):\n",
    "    #create empty set variables that will store the duplicate and non_duplicate items\n",
    "    non_duplicates=set()\n",
    "    duplicates=set()\n",
    "    #for loop to iterate through each item on the list\n",
    "    for x in string_list:\n",
    "        #if statement to check wether the item has been encountered previously(duplicate) or not(non_duplicate)\n",
    "        if x in non_duplicates:\n",
    "            duplicates.add(x)\n",
    "        else:\n",
    "            non_duplicates.add(x) #The first item in the list is automatically added here as on the first running it is encountered only once then the loop runs again\n",
    "    if len(duplicates)==0:\n",
    "        print('There are no duplicates in the list')\n",
    "    else :\n",
    "        print(f\"Duplicates found {duplicates}\")\n",
    "\n",
    "\n",
    "\n",
    "\n",
    "    "
   ]
  },
  {
   "cell_type": "code",
   "execution_count": 12,
   "metadata": {},
   "outputs": [
    {
     "name": "stdout",
     "output_type": "stream",
     "text": [
      "Duplicates found {'apple'}\n",
      "There are no duplicates in the list\n"
     ]
    }
   ],
   "source": [
    "fruits = ['apple', 'orange', 'banana', 'apple']\n",
    "names = ['Yoda', 'Moses', 'Joshua', 'Mark']\n",
    "\n",
    "check_duplicates(fruits)\n",
    "check_duplicates(names)"
   ]
  },
  {
   "cell_type": "markdown",
   "metadata": {},
   "source": [
    "DAY3: EXERCISE 1:Write a function called register_check that checks how many\n",
    "students are in school. The function takes a dictionary as a\n",
    "parameter. If the student is in school, the dictionary says ‘yes’. If\n",
    "the student is not in school, the dictionary says ‘no’. Your\n",
    "function should return the number of students in school. Use the\n",
    "dictionary below. Your function should return 3.\n",
    "register = {'Michael':'yes','John': 'no',\n",
    "'Peter':'yes', 'Mary': 'yes'}"
   ]
  },
  {
   "cell_type": "code",
   "execution_count": 17,
   "metadata": {},
   "outputs": [],
   "source": [
    "def register_check(dictionary_1):\n",
    "    number_of_students=0\n",
    "    absentees=0\n",
    "    for x in dictionary_1.values():\n",
    "        if x==\"yes\":\n",
    "            number_of_students+=1\n",
    "        else :\n",
    "            absentees+=1\n",
    "    return f\"The number of students in school is {number_of_students}, while those absent are {absentees}\""
   ]
  },
  {
   "cell_type": "code",
   "execution_count": 18,
   "metadata": {},
   "outputs": [
    {
     "data": {
      "text/plain": [
       "'The number of students in school is 3, while those absent are 1'"
      ]
     },
     "execution_count": 18,
     "metadata": {},
     "output_type": "execute_result"
    }
   ],
   "source": [
    "register = {'Michael':'yes','John': 'no',\n",
    "'Peter':'yes', 'Mary': 'yes'}\n",
    "register_check(register)"
   ]
  },
  {
   "cell_type": "markdown",
   "metadata": {},
   "source": [
    "EXERCISE2 :names = [\"kerry\", \"dickson\", \"John\", \"Mary\",\n",
    "\"carol\", \"Rose\", \"adam\"]\n",
    "You are given a list of names above. This list is made up of names\n",
    "of lowercase and uppercase letters. Your task is to write a code\n",
    "that will return a tuple of all the names in the list that have only\n",
    "lowercase letters. Your tuple should have names sorted\n",
    "alphabetically in descending order. Using the list above, your\n",
    "code should return:\n",
    "('kerry', 'dickson', 'carol', 'adam')"
   ]
  },
  {
   "cell_type": "code",
   "execution_count": 6,
   "metadata": {},
   "outputs": [],
   "source": [
    "def list_tuple(list1):\n",
    "    #since tuples are immutable i.e unchangable will first work on them as list before converting them to tuples\n",
    "    lowercase_names=[]\n",
    "    uppercase_names=[]\n",
    "    for n in list1:\n",
    "        if n.islower():\n",
    "            lowercase_names.append(n)\n",
    "        else :\n",
    "           uppercase_names.append(n)\n",
    "    print(tuple(sorted(lowercase_names,reverse=True))) "
   ]
  },
  {
   "cell_type": "code",
   "execution_count": 7,
   "metadata": {},
   "outputs": [
    {
     "name": "stdout",
     "output_type": "stream",
     "text": [
      "('kerry', 'dickson', 'carol', 'adam')\n"
     ]
    }
   ],
   "source": [
    "names = [\"kerry\", \"dickson\", \"John\", \"Mary\",\n",
    "\"carol\", \"Rose\", \"adam\"]\n",
    "list_tuple(names)"
   ]
  },
  {
   "cell_type": "markdown",
   "metadata": {},
   "source": [
    "DAY 4: EXERCISE 1 : Write a function called only_floats, which takes two\n",
    "parameters a and b, and returns 2 if both arguments are floats,\n",
    "returns 1 if only one argument is a float, and returns 0 if neither23\n",
    "argument is a float. If you pass (12.1, 23) as an argument, your\n",
    "function should return a 1."
   ]
  },
  {
   "cell_type": "code",
   "execution_count": 17,
   "metadata": {},
   "outputs": [],
   "source": [
    "\n",
    "def only_floats(a,b):\n",
    "    type_a=type(a)\n",
    "    type_b=type(b)\n",
    "    #check if both values are float using AND operator\n",
    "    if type_a==float and type_b==float:\n",
    "        return 2\n",
    "    #check if atleast one value is a float using OR operator\n",
    "    elif type_a==float or type_b==float:\n",
    "        return 1\n",
    "    else :\n",
    "        return 0\n",
    "\n",
    "\n"
   ]
  },
  {
   "cell_type": "code",
   "execution_count": 18,
   "metadata": {},
   "outputs": [
    {
     "data": {
      "text/plain": [
       "1"
      ]
     },
     "execution_count": 18,
     "metadata": {},
     "output_type": "execute_result"
    }
   ],
   "source": [
    "a=12.1\n",
    "b=23\n",
    "only_floats(a,b)"
   ]
  },
  {
   "cell_type": "markdown",
   "metadata": {},
   "source": [
    "DAY 5:Create a function called my_discount. The function takes no\n",
    "arguments but asks the user to input the price and the\n",
    "discount (percentage) of the product. Once the user inputs the\n",
    "price and discount, it calculates the price after the discount.\n",
    "The function should return the price after the discount. For\n",
    "example, if the user enters 150 as price and 15% as the discount,\n",
    "your function should return 127.5."
   ]
  },
  {
   "cell_type": "code",
   "execution_count": 8,
   "metadata": {},
   "outputs": [],
   "source": [
    "def my_discount():\n",
    "    #input function returns values as floats thus it should be manually converted to floats\n",
    "    price=float(input(\"input the price\"))\n",
    "    discount=float(input(\"input the discount as a decimal\"))\n",
    "    new_price=price-(price*discount)\n",
    "    return (f'The price after discount is apllied is {new_price}')"
   ]
  },
  {
   "cell_type": "code",
   "execution_count": 9,
   "metadata": {},
   "outputs": [
    {
     "data": {
      "text/plain": [
       "'The price after discount is apllied is 127.5'"
      ]
     },
     "execution_count": 9,
     "metadata": {},
     "output_type": "execute_result"
    }
   ],
   "source": [
    "my_discount()"
   ]
  },
  {
   "cell_type": "markdown",
   "metadata": {},
   "source": []
  }
 ],
 "metadata": {
  "kernelspec": {
   "display_name": "base",
   "language": "python",
   "name": "python3"
  },
  "language_info": {
   "codemirror_mode": {
    "name": "ipython",
    "version": 3
   },
   "file_extension": ".py",
   "mimetype": "text/x-python",
   "name": "python",
   "nbconvert_exporter": "python",
   "pygments_lexer": "ipython3",
   "version": "3.9.13"
  }
 },
 "nbformat": 4,
 "nbformat_minor": 2
}
